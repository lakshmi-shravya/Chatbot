{
 "cells": [
  {
   "cell_type": "markdown",
   "id": "4aa17163",
   "metadata": {},
   "source": [
    "# An Interactive NLP-based AI System: Chatbot"
   ]
  },
  {
   "cell_type": "markdown",
   "id": "156d53d0",
   "metadata": {},
   "source": [
    "NLP-based chatbot system that helps users to find information about movies and assist with ticket booking for Savoy Cinema Nottingham. The user can:\n",
    "* Have a general conversation with the chatbot\n",
    "* Ask for information about movies,so the user can query about movies by name, genre, director, actor, year, and plot\n",
    "* Get recommendations for movies\n",
    "* Assist the user in booking tickets for movies at Savoy Cinema Nottingham"
   ]
  },
  {
   "cell_type": "markdown",
   "id": "6620958e",
   "metadata": {},
   "source": [
    "## Requirements"
   ]
  },
  {
   "cell_type": "code",
   "execution_count": 1,
   "id": "9515bbeb",
   "metadata": {},
   "outputs": [],
   "source": [
    "#!pip install nltk\n",
    "#!pip install pandas\n",
    "#!pip install requests\n",
    "#!pip install beautifulsoup4\n",
    "#!pip install pickle\n",
    "#!pip install numpy"
   ]
  },
  {
   "cell_type": "markdown",
   "id": "b854f219",
   "metadata": {},
   "source": [
    "## Import Library"
   ]
  },
  {
   "cell_type": "code",
   "execution_count": 1,
   "id": "716b3eea",
   "metadata": {},
   "outputs": [],
   "source": [
    "import numpy as np\n",
    "import random\n",
    "import nltk\n",
    "import json\n",
    "import pandas as pd\n",
    "import datetime\n",
    "import pickle\n",
    "import requests\n",
    "import webbrowser\n",
    "from math import log10\n",
    "from bs4 import BeautifulSoup\n",
    "from nltk.corpus import stopwords\n",
    "from nltk.stem.snowball import SnowballStemmer"
   ]
  },
  {
   "cell_type": "markdown",
   "source": [
    "## Load Data"
   ],
   "metadata": {
    "collapsed": false
   }
  },
  {
   "cell_type": "markdown",
   "source": [
    "There are three datasets used in this project:\n",
    "* small_talk.json: This dataset contains a list of questions and answers for small talk.\n",
    "* refined_dataset.csv: This dataset contains a list of movies with their information."
   ],
   "metadata": {
    "collapsed": false
   }
  },
  {
   "cell_type": "code",
   "execution_count": 3,
   "id": "cc85eb07",
   "metadata": {},
   "outputs": [],
   "source": [
    "talk_data = []\n",
    "with open(\"small_talk.json\") as file:\n",
    "    talk_data = json.load(file)"
   ]
  },
  {
   "cell_type": "code",
   "execution_count": 4,
   "id": "c13d8896",
   "metadata": {},
   "outputs": [],
   "source": [
    "movies = pd.read_csv('refined_dataset.csv', delimiter=',')\n",
    "movies.dataframeName = 'refined_dataset.csv'"
   ]
  },
  {
   "cell_type": "markdown",
   "id": "f33263bf",
   "metadata": {},
   "source": [
    "## Data Retrieval"
   ]
  },
  {
   "cell_type": "markdown",
   "source": [
    "For the chatbot to enable the users to book tickets for movies at Savoy Cinema Nottingham, the data is scraped from the Savoy Cinema website. The data is scraped using the BeautifulSoup library and the data is stored in a json file. The data is loaded from the json file when needed."
   ],
   "metadata": {
    "collapsed": false
   }
  },
  {
   "cell_type": "code",
   "execution_count": 5,
   "id": "19ca4649",
   "metadata": {},
   "outputs": [],
   "source": [
    "URL = \"https://savoyonline.co.uk/SavoyNottingham.dll/Home\"\n",
    "page = requests.get(URL)\n",
    "\n",
    "soup = BeautifulSoup(page.content, \"html.parser\")\n",
    "script = soup.find_all('script')[3]\n",
    "json_part = script.contents[0][17:]\n",
    "\n",
    "# print(json_part)\n",
    "data = json.loads(json_part)['Events']"
   ]
  },
  {
   "cell_type": "markdown",
   "source": [
    "## Similarity Functions"
   ],
   "metadata": {
    "collapsed": false
   }
  },
  {
   "cell_type": "markdown",
   "source": [
    "The functions are used to calculate the similarity between two documents."
   ],
   "metadata": {
    "collapsed": false
   }
  },
  {
   "cell_type": "code",
   "execution_count": 2,
   "outputs": [],
   "source": [
    "\"\"\"\n",
    "    This function is used to calculate the Jaccard similarity between two documents.\n",
    "    The function takes two documents as input and returns the Jaccard similarity score.\n",
    "\"\"\"\n",
    "def Jaccard_Similarity(doc1, doc2):\n",
    "    # List the unique words in a document\n",
    "    words_doc1 = set(doc1.lower().split())\n",
    "    words_doc2 = set(doc2.lower().split())\n",
    "\n",
    "    # Find the intersection of words list of doc1 & doc2\n",
    "    intersection = words_doc1.intersection(words_doc2)\n",
    "\n",
    "    # Find the union of words list of doc1 & doc2\n",
    "    union = words_doc1.union(words_doc2)\n",
    "\n",
    "    # Calculate Jaccard similarity score\n",
    "    # using length of intersection set divided by length of union set\n",
    "    return float(len(intersection)) / len(union)\n",
    "\n",
    "\"\"\"\n",
    "    This function is used to calculate the log frequency weighting of a vector.\n",
    "    The function takes a vector as input and returns the log frequency weighted vector.\n",
    "\"\"\"\n",
    "def logfreq_weighting(vector):\n",
    "    lf_vector = []\n",
    "    for frequency in vector:\n",
    "        lf_vector.append(log10(1+frequency))\n",
    "    return np.array(lf_vector)\n",
    "\n",
    "\"\"\"\n",
    "    This function is used to calculate manhattan distance between two vectors.\n",
    "    The function takes two vectors as input and returns the similarity score.\n",
    "\"\"\"\n",
    "def sim_manhattan(vector_1, vector_2):\n",
    "    diff = abs(vector_1 - vector_2)\n",
    "    manhattan_distance = diff.sum()\n",
    "    similarity = 1 / (1+manhattan_distance)\n",
    "    return similarity"
   ],
   "metadata": {
    "collapsed": false
   }
  },
  {
   "cell_type": "markdown",
   "source": [
    "## Data Preprocessing\n"
   ],
   "metadata": {
    "collapsed": false
   }
  },
  {
   "cell_type": "markdown",
   "source": [
    "For the movie recommendation system plots need to be pre-processed to provide suitable recommendations. Hence, the movie plots from the movie dataset is tokenized, filtered, and stemmed. The bag of words is created and log frequency weighting is applied to the bag of words.To avoid the time-consuming process of preprocessing the data, the preprocessed data is saved in a pickle file and loaded when needed. The 'bow.pkl' file contains the bag of words and 'vocab.pkl' file contains the vocabulary."
   ],
   "metadata": {
    "collapsed": false
   }
  },
  {
   "cell_type": "code",
   "execution_count": 6,
   "outputs": [],
   "source": [
    "#Tokensize\n",
    "tokenizer = nltk.RegexpTokenizer(r\"\\w+\")\n",
    "tok_plots = []\n",
    "for movie_plot in movies['Plot']:\n",
    "    tok_plots.append(tokenizer.tokenize(movie_plot))\n",
    "# print(tok_plots )\n",
    "\n",
    "filtered_plots = []\n",
    "english_stopwords = stopwords.words('english')\n",
    "for tok_words in tok_plots:\n",
    "    filtered_plots.append([word.lower() for word in tok_words\n",
    "                           if word.lower() not in english_stopwords])\n",
    "\n",
    "sb_stemmer = SnowballStemmer('english')\n",
    "stemmed_plots = []\n",
    "for filt_words in filtered_plots:\n",
    "    stemmed_plots.append([sb_stemmer.stem(word)for word in filt_words])\n",
    "\n",
    "# vocabulary = []\n",
    "# for plots in stemmed_plots:\n",
    "#     for stem in plots:\n",
    "#         if stem not in vocabulary:\n",
    "#             vocabulary.append(stem)\n",
    "\n",
    "bow = {}\n",
    "for plot in range(len(stemmed_plots)):\n",
    "    bow[plot] = np.zeros(len(vocabulary))\n",
    "    for stem in stemmed_plots[plot]:\n",
    "        index = vocabulary.index(stem)\n",
    "        bow[plot][index] += 1\n",
    "\n",
    "\n",
    "# for plot in range(len(stemmed_plots)):\n",
    "#     bow[plot] = logfreq_weighting(bow[plot])\n",
    "\n",
    "# bow_file = open(\"bow.pkl\", \"wb\")\n",
    "# pickle.dump(bow, bow_file)\n",
    "# bow_file.close()\n",
    "\n",
    "# vocab_file = open(\"vocab.pkl\", \"wb\")\n",
    "# pickle.dump(vocabulary, vocab_file)\n",
    "# vocab_file.close()\n",
    "\n",
    "# a_file = open(\"data.pkl\", \"rb\")\n",
    "# bow = pickle.load(a_file)"
   ],
   "metadata": {
    "collapsed": false
   }
  },
  {
   "cell_type": "code",
   "execution_count": 6,
   "outputs": [],
   "source": [
    "a_file = open(\"bow.pkl\", \"rb\")\n",
    "bow = pickle.load(a_file)\n",
    "\n",
    "a_file = open(\"vocab.pkl\", \"rb\")\n",
    "vocabulary = pickle.load(a_file)"
   ],
   "metadata": {
    "collapsed": false
   }
  },
  {
   "cell_type": "markdown",
   "id": "1f2007e3",
   "metadata": {},
   "source": [
    "## Chat Bot"
   ]
  },
  {
   "cell_type": "markdown",
   "source": [
    "The chatbot serves 3 main purposes of having a conversation, providing movie information, and assist booking tickets for movies at Savoy Cinema Nottingham. The chatbot is exited when the user enters 'bye'."
   ],
   "metadata": {
    "collapsed": false
   }
  },
  {
   "cell_type": "code",
   "execution_count": 7,
   "id": "e1f9b30b",
   "metadata": {
    "scrolled": true
   },
   "outputs": [
    {
     "name": "stdout",
     "output_type": "stream",
     "text": [
      "Chatty Bot: shrav,A bit about me, I love movies! and I know all about them\n",
      "\t 1 if you just want to have a chat\n",
      "\t 2 if you want to know about movies \n",
      "\t 3 if you want to book a movie at Savoy Cinema Nottingham\n",
      "\t bye to exit the chat bot\n",
      "Chatty Bot: shrav I dont understand that\n",
      "Chatty Bot: What do you want to do(type the option and press return)?\n",
      "\t 1 if you just want to have a chat\n",
      "\t 2 if you want to know about movies \n",
      "\t 3 if you want to book a movie at Savoy Cinema Nottingham\n",
      "\t bye : to exit the chat bot\n",
      "Chatty Bot: shrav,whats up(to exit Small Talk type 'exit' and press return)?\n",
      "Chatty Bot: I am sorry, I don't know what you mean\n",
      "Chatty Bot: Sorry youre feeling blue today. Hope things get better soon.\n",
      "Chatty Bot: I am sorry, I don't know what you mean\n",
      "Chatty Bot: Hi!\n",
      "Chatty Bot: I am sorry, I don't know what you mean\n",
      "Chatty Bot: I cant really explain.\n",
      "Chatty Bot: Hi!\n",
      "Chatty Bot: I am sorry, I don't know what you mean\n",
      "Chatty Bot: See you later!\n",
      "Chatty Bot: What do you want to do(type the option and press return)?\n",
      "\t 1 if you just want to have a chat\n",
      "\t 2 if you want to know about movies \n",
      "\t 3 if you want to book a movie at Savoy Cinema Nottingham\n",
      "\t bye : to exit the chat bot\n",
      "Chatty Bot: shrav I dont understand that\n",
      "Chatty Bot: What do you want to do(type the option and press return)?\n",
      "\t 1 if you just want to have a chat\n",
      "\t 2 if you want to know about movies \n",
      "\t 3 if you want to book a movie at Savoy Cinema Nottingham\n",
      "\t bye : to exit the chat bot\n",
      "Chatty Bot: shrav I dont understand that\n",
      "Chatty Bot: What do you want to do(type the option and press return)?\n",
      "\t 1 if you just want to have a chat\n",
      "\t 2 if you want to know about movies \n",
      "\t 3 if you want to book a movie at Savoy Cinema Nottingham\n",
      "\t bye : to exit the chat bot\n",
      "Chatty Bot: See you later, have a good day!\n"
     ]
    }
   ],
   "source": [
    "# Main Menu options\n",
    "small_talk = '1'\n",
    "movie_info = '2'\n",
    "savoy_cinema = '3'\n",
    "end_string = \"bye\"\n",
    "\n",
    "name = input('Hi I am chatty bot, To start off what is your name?:\\n')\n",
    "\n",
    "addons = [\"Loving this game {}\".format(name), \"This is fun!,\", \"I could do this forever,{}\".format(name)]\n",
    "\n",
    "# Main Menu and Introduction\n",
    "print(\"Chatty Bot: {},A bit about me, I love movies! and I know all about them\".format(name)) \n",
    "print(\"\\t 1 if you just want to have a chat\")\n",
    "print(\"\\t 2 if you want to know about movies \")\n",
    "print(\"\\t 3 if you want to book a movie at Savoy Cinema Nottingham\")\n",
    "print(\"\\t bye to exit the chat bot\")\n",
    "query = input(\"Me:\")\n",
    "\n",
    "# bye is used to make sure the user stays in chatbot until they want to exit\n",
    "bye = False\n",
    "\n",
    "while not bye:\n",
    "    # ---- ChatBot Exit Case---\n",
    "    if query == end_string:\n",
    "        print(\"Chatty Bot: See you later, have a good day!\")\n",
    "        bye = True\n",
    "        break\n",
    "        \n",
    "    # --- Movie Information retrieval ----\n",
    "    elif query == movie_info:\n",
    "        query = '0'\n",
    "        print(\"Chatty Bot: {},I just love movies! and I know all about them. Give me a movie name?(if you want to exit this type 'exit' and press return)\".format(name))\n",
    "        info_ret = input(\"Me: \")\n",
    "        \n",
    "        # info_ret_exit is used to make sure the user stays in Movie Information retrieval until they want to exit\n",
    "        info_ret_exit = False\n",
    "        \n",
    "        while not info_ret_exit:\n",
    "            if info_ret == \"exit\":\n",
    "                info_ret_exit = True\n",
    "                print(\"Chatty Bot: You have now exited the info retreival option!\")\n",
    "                break\n",
    "                \n",
    "            # processing the query to find the corresponding movie information from the movie dataset\n",
    "            most_similar_movie_count = 0\n",
    "            temp_similarity = 0\n",
    "            for movie_name in movies['Title']:\n",
    "                simialrity_score = Jaccard_Similarity(info_ret, movie_name)\n",
    "                if temp_similarity < simialrity_score:\n",
    "                    temp_similarity = simialrity_score\n",
    "                    most_similar_movie = movie_name\n",
    "                    \n",
    "            # if there is no such movie in the dataset        \n",
    "            if temp_similarity < 0.2:\n",
    "                print(\"Chatty Bot: Ahh that's a shame, I dont know what movie it is\")\n",
    "                print(\"Chatty Bot: \"+ addons[random.randint(0, len(addons)-1)]+\" .Give me another movie name? (if you want to exit type 'exit' and press return)\".format(name))\n",
    "                info_ret = input(\"Me:\" )\n",
    "                continue\n",
    "                \n",
    "            # if the movie exists then output the information and ask if user needs recommendations    \n",
    "            else:                \n",
    "                most_similar_movie_info = movies.loc[movies[movies['Title'] == most_similar_movie].index]\n",
    "                most_similar_movie_plot = most_similar_movie_info['Plot'].values[0]\n",
    "                most_similar_movie_release_year = most_similar_movie_info['Release Year'].values[0]\n",
    "                most_similar_movie_origin = most_similar_movie_info['Origin/Ethnicity'].values[0]\n",
    "                most_similar_movie_dir = most_similar_movie_info['Director'].values[0]\n",
    "                most_similar_movie_cast = most_similar_movie_info['Cast'].values[0]\n",
    "                most_similar_movie_genre = most_similar_movie_info['Genre'].values[0]\n",
    "                most_similar_movie_wiki = most_similar_movie_info['Wiki Page'].values[0]\n",
    "\n",
    "                print(\"Name: \", most_similar_movie)\n",
    "                print(\"\\nYear: \", most_similar_movie_release_year)\n",
    "                print(\"\\nOrigin: \", most_similar_movie_origin)\n",
    "                print(\"\\nDirector: \", most_similar_movie_dir)\n",
    "                print(\"\\nGenre: \", most_similar_movie_genre)\n",
    "                print(\"\\nWiki_page: \", most_similar_movie_wiki)\n",
    "                print(\"\\nPlot: \", most_similar_movie_plot)\n",
    "                print(\"\\n\\n\")\n",
    "                print(\"Chatty Bot: Do you want me to recommend similar movies to {} say yes or no\".format(most_similar_movie))\n",
    "                movie_recomm = input(\"Me: \")\n",
    "                if  movie_recomm == \"exit\":\n",
    "                    info_ret_exit = True\n",
    "                    print(\"Chatty Bot: See you later!\")\n",
    "                    break\n",
    "                if movie_recomm == 'yes':\n",
    "                    \n",
    "                ###Pre-process the queried movies plot to find the most similar plot from mvoie dataset \n",
    "                    query_plot = most_similar_movie_plot\n",
    "\n",
    "                    # Tokensize\n",
    "                    tokeniser = nltk.RegexpTokenizer(r\"\\w+\")\n",
    "                    tok_query = tokeniser.tokenize(query_plot)\n",
    "\n",
    "                    # Remove stop words\n",
    "                    english_stopwords = stopwords.words('english')\n",
    "                    filtered_query = [word.lower() for word in tok_query if word.lower() not in english_stopwords]\n",
    "\n",
    "                    # Stemming\n",
    "                    sb_stemmer = SnowballStemmer('english')\n",
    "                    stemmed_query = [sb_stemmer.stem(word) for word in filtered_query]\n",
    "                    \n",
    "                    #Vectorisation\n",
    "                    vector_query = np.zeros(len(vocabulary))\n",
    "                    for stem in stemmed_query:\n",
    "                        try:\n",
    "                            index = vocabulary.index(stem)\n",
    "                            vector_query[index] += 1\n",
    "                        except ValueError:\n",
    "                            continue\n",
    "                    vector_query = logfreq_weighting(vector_query)\n",
    "                    \n",
    "                    #Finding similar plots\n",
    "                    similarities = []\n",
    "                    temp_similarity = 0\n",
    "                    for document in bow.keys():\n",
    "                        similarity = sim_manhattan(bow[document], vector_query)\n",
    "                        similarities.append(similarity)\n",
    "                    temp = sorted(similarities, reverse=True)\n",
    "                    \n",
    "                    #find the movie titles for the similar plots\n",
    "                    top_5 = []\n",
    "                    for num in range(1, 6):\n",
    "                        plot_index = temp[num]\n",
    "                        top_5.append(similarities.index(plot_index))\n",
    "                        \n",
    "                    #output the top 5 similar movies to the user\n",
    "                    for num in top_5:\n",
    "                        most_similar_movie_info = movies.loc[num]\n",
    "                        print(most_similar_movie_info['Title'])\n",
    "\n",
    "\n",
    "            print(\"Chatty Bot: \"+ addons[random.randint(0, len(addons)-1)]+\" .Give me another movie name? (if you want to exit type 'exit' and press return)\".format(name))\n",
    "            info_ret = input(\"Me:\" )\n",
    "\n",
    "            \n",
    "\n",
    "    # --- Small Talk ----                     \n",
    "    elif query == small_talk:\n",
    "        query = '0'\n",
    "        # exit is used to make sre the user stays in small talk until they want to exit\n",
    "        exit = False\n",
    "        print(\"Chatty Bot: {},whats up(to exit Small Talk type 'exit' and press return)?\".format(name))\n",
    "\n",
    "        while not exit:\n",
    "            talk = input(\"Me: \")\n",
    "            if talk == \"exit\":\n",
    "                exit = True\n",
    "                print(\"Chatty Bot: See you later!\")\n",
    "                break\n",
    "                \n",
    "            # process the queried question and compare with the questions in the small talk dataset\n",
    "            else:\n",
    "                most_similar_question = 0\n",
    "                temp_similarity = 0\n",
    "                for intent in talk_data:\n",
    "                    similarity = Jaccard_Similarity(talk, intent['Question'])\n",
    "                    if temp_similarity < similarity:\n",
    "                        temp_similarity = similarity\n",
    "                        most_similar_question_ans = intent['Answer']\n",
    "                \n",
    "                if temp_similarity < 0.5:\n",
    "                    print(\"Chatty Bot: I am sorry, I don't know what you mean\")\n",
    "                else:\n",
    "                    print(\"Chatty Bot: \"+ most_similar_question_ans)\n",
    "                    \n",
    "                    \n",
    "                    \n",
    "    # --- Movie Transaction----           \n",
    "    elif query == savoy_cinema:\n",
    "        query = '0'\n",
    "        print(\"Chatty Bot: {},what movie are you looking to watch at Savoy Cinema Nottingham?(if you want to exit this type 'exit' and press return)\".format(name))\n",
    "        savoy_query = input(\"Me: \")\n",
    "        \n",
    "        # savoy_exit is used to make sre the user stays in the transaction options until they want to exit\n",
    "        savoy_exit = False\n",
    "        \n",
    "        while not savoy_exit: \n",
    "            if savoy_query == \"exit\":\n",
    "                savoy_exit = True\n",
    "                print(\"Chatty Bot: See you later!\")\n",
    "                break\n",
    "                \n",
    "            # getting all the movies premiering in Savoy Cinema\n",
    "            savoy_movies = []\n",
    "            for event in data:\n",
    "                savoy_movies.append(event['Title'])\n",
    "                \n",
    "            #processing the queried movie title   \n",
    "            temp_similarity = 0\n",
    "            for movie in savoy_movies:\n",
    "                similarity = Jaccard_Similarity(movie,savoy_query)\n",
    "                if temp_similarity < similarity:\n",
    "                    temp_similarity = similarity\n",
    "                    most_similar_movie = movie\n",
    "                    \n",
    "                    \n",
    "            if temp_similarity < 0.5:\n",
    "                print(\"Sorry the movie {} is not premiering in Savoy Cinema\".format(savoy_query))\n",
    "                \n",
    "            elif temp_similarity >= 0.5:\n",
    "                savoy_movie_index = savoy_movies.index(most_similar_movie)\n",
    "                event = data[savoy_movie_index]['Performances']\n",
    "                \n",
    "                #processing the movie date\n",
    "                print(\"Chat Bot: What date do you want to watch {} in form of dd/mm/yyyy:\".format(most_similar_movie))       \n",
    "                movie_date =  input(\"Me:\")\n",
    "                \n",
    "                #making sure the user can still exit the transaction option\n",
    "                if movie_date == 'exit':\n",
    "                    print(\"Chatty Bot: See you later!\")\n",
    "                    savoy_exit = True\n",
    "                    break\n",
    "                print(\"Show times on the {} are: (Choose one of the options)\".format(movie_date))\n",
    "                movie_date = datetime.datetime.strptime(movie_date,\"%d/%m/%Y\" ).strftime(\"%Y-%m-%d\")\n",
    "                \n",
    "                # using the both queried movie and the date to get the booking URL\n",
    "                option = 0\n",
    "                show_url = []\n",
    "                for shows in event:\n",
    "                    if(shows['StartDate'] == movie_date ):\n",
    "                        option += 1\n",
    "                        print(str(option)+ \" \"+shows['StartTime'] + \" in \"+ shows['AuditoriumName'])\n",
    "                        p = shows['URL']\n",
    "                        booking_URL = \"https://savoyonline.co.uk/SavoyNottingham.dll/\"+p\n",
    "                        show_url.append(booking_URL)\n",
    "                        \n",
    "                if option == 0:\n",
    "                    print(\"no showings on {}\".format(movie_date))\n",
    "                    \n",
    "                else:\n",
    "                    movie_option = input(\"Me:\")\n",
    "                    if movie_option == 'exit':\n",
    "                        print(\"Chatty Bot: See you later\")\n",
    "                        savoy_exit = True\n",
    "                        break\n",
    "                    \n",
    "                    else:\n",
    "                        print(\"Thank you I will now redirect you to the booking link enjoy!\")\n",
    "                        webbrowser.open(show_url[int(movie_option)-1])  \n",
    "            print(\"Chatty Bot: Wanna book another movie {}? (if you want to exit type 'exit' and press return)\".format(name))\n",
    "            savoy_query = input(\"Me:\")\n",
    "    \n",
    "    #Error handling if the users inputs something other than 1,2,3 and 'bye' in the main menu\n",
    "    else:\n",
    "        print(\"Chatty Bot: {} I dont understand that\".format(name))\n",
    "    \n",
    "    # Main menu        \n",
    "    print(\"Chatty Bot: What do you want to do(type the option and press return)?\") \n",
    "    print(\"\\t 1 if you just want to have a chat\")\n",
    "    print(\"\\t 2 if you want to know about movies \")\n",
    "    print(\"\\t 3 if you want to book a movie at Savoy Cinema Nottingham\")\n",
    "\n",
    "    print(\"\\t bye : to exit the chat bot\")\n",
    "    query = input(\"Me:\")\n"
   ]
  },
  {
   "cell_type": "markdown",
   "id": "464033db",
   "metadata": {},
   "source": [
    "## Bench Marking"
   ]
  },
  {
   "cell_type": "code",
   "execution_count": null,
   "id": "86751a6f",
   "metadata": {
    "pycharm": {
     "is_executing": true
    }
   },
   "outputs": [],
   "source": [
    "#Benchmarking for small talk\n",
    "small_talk_benchmark = talk_data[0:20]\n",
    "x = 0\n",
    "for test_q in small_talk_benchmark:\n",
    "    for intent in talk_data:\n",
    "        similarity = Jaccard_Similarity(test_q['Question'], intent['Question'])\n",
    "        if temp_similarity < similarity:\n",
    "            temp_similarity = similarity\n",
    "            most_similar_question_ans = intent['Answer']\n",
    "    print(\"for test question \"+ str(x) + \" similarity is \"+str(temp_similarity) )\n",
    "    x= x + 1\n",
    "            \n"
   ]
  },
  {
   "cell_type": "code",
   "execution_count": null,
   "id": "727a5978",
   "metadata": {
    "pycharm": {
     "is_executing": true
    }
   },
   "outputs": [],
   "source": [
    "#Benchmarking for info retrieval\n",
    "movie_search_benchmark = movies['Title'][0:101]\n",
    "x = 0 \n",
    "for test_movie in movie_search_benchmark:\n",
    "    for movie_name in movies['Title']:\n",
    "        simialrity_score = Jaccard_Similarity(test_movie, movie_name)\n",
    "        if temp_similarity < simialrity_score:\n",
    "            temp_similarity = simialrity_score\n",
    "            most_similar_movie = movie_name\n",
    "    print(\"for test movie \"+ str(x) + \" similarity is \"+str(temp_similarity) )\n",
    "    x= x + 1"
   ]
  }
 ],
 "metadata": {
  "kernelspec": {
   "display_name": "Python 3",
   "language": "python",
   "name": "python3"
  },
  "language_info": {
   "codemirror_mode": {
    "name": "ipython",
    "version": 3
   },
   "file_extension": ".py",
   "mimetype": "text/x-python",
   "name": "python",
   "nbconvert_exporter": "python",
   "pygments_lexer": "ipython3",
   "version": "3.8.8"
  }
 },
 "nbformat": 4,
 "nbformat_minor": 5
}
